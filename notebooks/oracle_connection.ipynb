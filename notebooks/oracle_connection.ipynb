{
 "cells": [
  {
   "cell_type": "code",
   "execution_count": 1,
   "id": "44518747",
   "metadata": {},
   "outputs": [
    {
     "name": "stdout",
     "output_type": "stream",
     "text": [
      "Successfully connected to Oracle Database\n"
     ]
    }
   ],
   "source": [
    "import oracledb\n",
    "import pandas as pd\n",
    "\n",
    "# Connection details\n",
    "username = \"system\"  # default admin user\n",
    "password = \"system\"  # change this\n",
    "dsn = \"localhost:1521/XE\"  # Oracle XE default\n",
    "\n",
    "# Create connection\n",
    "try:\n",
    "    connection = oracledb.connect(user=username, password=password, dsn=dsn)\n",
    "    print(\"Successfully connected to Oracle Database\")\n",
    "    \n",
    "    # Create a cursor\n",
    "    cursor = connection.cursor()\n",
    "    \n",
    "except oracledb.DatabaseError as e:\n",
    "    print(\"Error connecting to Oracle:\", e)"
   ]
  },
  {
   "cell_type": "code",
   "execution_count": 2,
   "id": "5e90df7a",
   "metadata": {},
   "outputs": [
    {
     "name": "stdout",
     "output_type": "stream",
     "text": [
      "Error creating tables: [Oracle Error 955] ORA-00955: name is already used by an existing object\n",
      "Help: https://docs.oracle.com/error-help/db/ora-00955/\n"
     ]
    }
   ],
   "source": [
    "try:\n",
    "    # Create Banks table with corrected parenthesis\n",
    "    cursor.execute(\"\"\"\n",
    "    CREATE TABLE banks (\n",
    "        bank_id NUMBER GENERATED ALWAYS AS IDENTITY PRIMARY KEY,\n",
    "        bank_name VARCHAR2(100) NOT NULL UNIQUE,\n",
    "        established_date DATE,\n",
    "        headquarters VARCHAR2(100)\n",
    "    )\n",
    "    \"\"\")\n",
    "    \n",
    "    # Create Reviews table with corrected syntax\n",
    "    cursor.execute(\"\"\"\n",
    "    CREATE TABLE reviews (\n",
    "        review_id NUMBER GENERATED ALWAYS AS IDENTITY PRIMARY KEY,\n",
    "        review_text CLOB,\n",
    "        rating NUMBER(1) NOT NULL CHECK (rating BETWEEN 1 AND 5),\n",
    "        review_date DATE NOT NULL,\n",
    "        bank_id NUMBER NOT NULL,\n",
    "        votes NUMBER DEFAULT 0,\n",
    "        sentiment_score NUMBER(3,2),\n",
    "        processed_date TIMESTAMP DEFAULT CURRENT_TIMESTAMP,\n",
    "        CONSTRAINT fk_review_bank FOREIGN KEY (bank_id) REFERENCES banks(bank_id)\n",
    "    )\n",
    "    \"\"\")\n",
    "    \n",
    "    connection.commit()\n",
    "    print(\"Tables created successfully\")\n",
    "\n",
    "except oracledb.DatabaseError as e:\n",
    "    error_obj, = e.args\n",
    "    print(f\"Error creating tables: [Oracle Error {error_obj.code}] {error_obj.message}\")\n",
    "    connection.rollback()"
   ]
  },
  {
   "cell_type": "code",
   "execution_count": 3,
   "id": "99ffeb8e",
   "metadata": {},
   "outputs": [
    {
     "name": "stdout",
     "output_type": "stream",
     "text": [
      "Error inserting banks: ORA-00001: unique constraint (SYSTEM.SYS_C008338) violated\n",
      "Help: https://docs.oracle.com/error-help/db/ora-00001/\n"
     ]
    }
   ],
   "source": [
    "# Insert banks\n",
    "banks = [\n",
    "    (\"Commercial Bank of Ethiopia\", None, \"Addis Ababa\"),\n",
    "    (\"Bank of Abyssinia\", None, \"Addis Ababa\"),\n",
    "    (\"Dashen Bank\", None, \"Addis Ababa\"),\n",
    "    (\"Awash Bank\", None, \"Addis Ababa\")\n",
    "]\n",
    "\n",
    "try:\n",
    "    cursor.executemany(\"\"\"\n",
    "    INSERT INTO banks (bank_name, established_date, headquarters)\n",
    "    VALUES (:1, :2, :3)\n",
    "    \"\"\", banks)\n",
    "    \n",
    "    connection.commit()\n",
    "    print(f\"{cursor.rowcount} banks inserted successfully\")\n",
    "    \n",
    "except oracledb.DatabaseError as e:\n",
    "    print(\"Error inserting banks:\", e)\n",
    "    connection.rollback()"
   ]
  },
  {
   "cell_type": "code",
   "execution_count": 4,
   "id": "bc1ed845",
   "metadata": {},
   "outputs": [
    {
     "name": "stdout",
     "output_type": "stream",
     "text": [
      "Loaded 9033 valid reviews for processing\n",
      "Prepared 9033 reviews for insertion (0 skipped)\n",
      "Inserted batch 1: 1000 records (Total: 1000)\n",
      "Inserted batch 2: 1000 records (Total: 2000)\n",
      "Inserted batch 3: 1000 records (Total: 3000)\n",
      "Inserted batch 4: 1000 records (Total: 4000)\n",
      "Inserted batch 5: 1000 records (Total: 5000)\n",
      "Inserted batch 6: 1000 records (Total: 6000)\n",
      "Inserted batch 7: 1000 records (Total: 7000)\n",
      "Inserted batch 8: 1000 records (Total: 8000)\n",
      "Inserted batch 9: 1000 records (Total: 9000)\n",
      "Inserted batch 10: 33 records (Total: 9033)\n",
      "Successfully inserted 9033 reviews out of 9033 attempted\n"
     ]
    }
   ],
   "source": [
    "import pandas as pd\n",
    "import oracledb\n",
    "\n",
    "try:\n",
    "    # Load and prepare data\n",
    "    df = pd.read_csv('../data/All_banks_reviews.csv')\n",
    "    \n",
    "    # Data cleaning and validation\n",
    "    df = df.dropna(subset=['review', 'rating', 'date', 'bank', 'votes'])  # Remove rows with missing critical fields\n",
    "    \n",
    "    # Convert and validate data types\n",
    "    df['date'] = pd.to_datetime(df['date'], errors='coerce')  # Convert with error handling\n",
    "    df = df.dropna(subset=['date'])  # Remove rows with invalid dates\n",
    "    \n",
    "    df['rating'] = pd.to_numeric(df['rating'], errors='coerce')\n",
    "    df = df[(df['rating'] >= 1) & (df['rating'] <= 5)]  # Ensure valid ratings\n",
    "    \n",
    "    df['votes'] = pd.to_numeric(df['votes'], errors='coerce').fillna(0).astype(int)\n",
    "    \n",
    "    print(f\"Loaded {len(df)} valid reviews for processing\")\n",
    "\n",
    "    # Get bank_id mapping\n",
    "    cursor.execute(\"SELECT bank_id, bank_name FROM banks\")\n",
    "    bank_mapping = {row[1]: row[0] for row in cursor.fetchall()}\n",
    "    \n",
    "    # Prepare review data for insertion with validation\n",
    "    review_data = []\n",
    "    skipped_rows = 0\n",
    "    \n",
    "    for _, row in df.iterrows():\n",
    "        bank_name = row['bank']\n",
    "        if bank_name not in bank_mapping:\n",
    "            print(f\"Warning: Bank '{bank_name}' not found in database, skipping review\")\n",
    "            skipped_rows += 1\n",
    "            continue\n",
    "            \n",
    "        review_data.append((\n",
    "            str(row['review'])[:4000],  # Truncate to 4000 chars to avoid CLOB issues\n",
    "            int(row['rating']),\n",
    "            row['date'].to_pydatetime(),\n",
    "            bank_mapping[bank_name],\n",
    "            int(row['votes'])\n",
    "        ))\n",
    "    \n",
    "    print(f\"Prepared {len(review_data)} reviews for insertion ({skipped_rows} skipped)\")\n",
    "\n",
    "    # Batch insert with error handling\n",
    "    batch_size = 1000  # Adjust based on your needs\n",
    "    total_inserted = 0\n",
    "    \n",
    "    for i in range(0, len(review_data), batch_size):\n",
    "        batch = review_data[i:i + batch_size]\n",
    "        try:\n",
    "            cursor.executemany(\"\"\"\n",
    "                INSERT INTO reviews (review_text, rating, review_date, bank_id, votes)\n",
    "                VALUES (:1, :2, :3, :4, :5)\n",
    "                \"\"\", batch)\n",
    "            connection.commit()\n",
    "            total_inserted += len(batch)\n",
    "            print(f\"Inserted batch {i//batch_size + 1}: {len(batch)} records (Total: {total_inserted})\")\n",
    "        except oracledb.DatabaseError as e:\n",
    "            error_obj, = e.args\n",
    "            print(f\"Error inserting batch {i//batch_size + 1}: [Oracle Error {error_obj.code}] {error_obj.message}\")\n",
    "            connection.rollback()\n",
    "            # Optionally log failed batch to retry later\n",
    "            continue\n",
    "\n",
    "    print(f\"Successfully inserted {total_inserted} reviews out of {len(review_data)} attempted\")\n",
    "\n",
    "except Exception as e:\n",
    "    print(f\"Unexpected error: {str(e)}\")\n",
    "    if 'connection' in locals():\n",
    "        connection.rollback()\n",
    "finally:\n",
    "    if 'cursor' in locals():\n",
    "        cursor.close()\n",
    "    if 'connection' in locals():\n",
    "        connection.close()"
   ]
  }
 ],
 "metadata": {
  "kernelspec": {
   "display_name": "myenv",
   "language": "python",
   "name": "python3"
  },
  "language_info": {
   "codemirror_mode": {
    "name": "ipython",
    "version": 3
   },
   "file_extension": ".py",
   "mimetype": "text/x-python",
   "name": "python",
   "nbconvert_exporter": "python",
   "pygments_lexer": "ipython3",
   "version": "3.10.6"
  }
 },
 "nbformat": 4,
 "nbformat_minor": 5
}
